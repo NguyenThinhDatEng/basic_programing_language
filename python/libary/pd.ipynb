{
 "cells": [
  {
   "cell_type": "markdown",
   "id": "9c77bd65",
   "metadata": {},
   "source": [
    "# module"
   ]
  },
  {
   "cell_type": "code",
   "execution_count": 5,
   "id": "e0b4fd50",
   "metadata": {},
   "outputs": [],
   "source": [
    "import pandas as pd # process data, draw graph\n",
    "import matplotlib.pyplot as plt\n",
    "# draw the graph in dataframe\n",
    "%matplotlib inline"
   ]
  },
  {
   "cell_type": "markdown",
   "id": "dbdea702",
   "metadata": {},
   "source": [
    "# import data from csv\n",
    "## dataframe is a list"
   ]
  },
  {
   "cell_type": "code",
   "execution_count": 7,
   "id": "a4f2bb37",
   "metadata": {},
   "outputs": [],
   "source": [
    "url = 'https://raw.githubusercontent.com/NguyenThinhDatEng/Deep_Learning/master/Meachine_Learning/Linear_regression/Gradient_Descent/data_linear.csv'\n",
    "df = pd.read_csv(url)"
   ]
  },
  {
   "cell_type": "markdown",
   "id": "1ab746f2",
   "metadata": {},
   "source": [
    "# read first (last) 5 elements"
   ]
  },
  {
   "cell_type": "code",
   "execution_count": 14,
   "id": "798875d2",
   "metadata": {},
   "outputs": [
    {
     "data": {
      "text/html": [
       "<div>\n",
       "<style scoped>\n",
       "    .dataframe tbody tr th:only-of-type {\n",
       "        vertical-align: middle;\n",
       "    }\n",
       "\n",
       "    .dataframe tbody tr th {\n",
       "        vertical-align: top;\n",
       "    }\n",
       "\n",
       "    .dataframe thead th {\n",
       "        text-align: right;\n",
       "    }\n",
       "</style>\n",
       "<table border=\"1\" class=\"dataframe\">\n",
       "  <thead>\n",
       "    <tr style=\"text-align: right;\">\n",
       "      <th></th>\n",
       "      <th>Diện tích</th>\n",
       "      <th>Giá</th>\n",
       "    </tr>\n",
       "  </thead>\n",
       "  <tbody>\n",
       "    <tr>\n",
       "      <th>0</th>\n",
       "      <td>30.0000</td>\n",
       "      <td>448.524</td>\n",
       "    </tr>\n",
       "    <tr>\n",
       "      <th>1</th>\n",
       "      <td>32.4138</td>\n",
       "      <td>509.248</td>\n",
       "    </tr>\n",
       "    <tr>\n",
       "      <th>2</th>\n",
       "      <td>34.8276</td>\n",
       "      <td>535.104</td>\n",
       "    </tr>\n",
       "    <tr>\n",
       "      <th>3</th>\n",
       "      <td>37.2414</td>\n",
       "      <td>551.432</td>\n",
       "    </tr>\n",
       "    <tr>\n",
       "      <th>4</th>\n",
       "      <td>39.6552</td>\n",
       "      <td>623.418</td>\n",
       "    </tr>\n",
       "  </tbody>\n",
       "</table>\n",
       "</div>"
      ],
      "text/plain": [
       "   Diện tích      Giá\n",
       "0    30.0000  448.524\n",
       "1    32.4138  509.248\n",
       "2    34.8276  535.104\n",
       "3    37.2414  551.432\n",
       "4    39.6552  623.418"
      ]
     },
     "execution_count": 14,
     "metadata": {},
     "output_type": "execute_result"
    }
   ],
   "source": [
    "df.head() # df.tail()"
   ]
  },
  {
   "cell_type": "markdown",
   "id": "c2e8a1e2",
   "metadata": {},
   "source": [
    "# read first (last) n elements"
   ]
  },
  {
   "cell_type": "code",
   "execution_count": 27,
   "id": "a29e7ce1",
   "metadata": {},
   "outputs": [
    {
     "data": {
      "text/html": [
       "<div>\n",
       "<style scoped>\n",
       "    .dataframe tbody tr th:only-of-type {\n",
       "        vertical-align: middle;\n",
       "    }\n",
       "\n",
       "    .dataframe tbody tr th {\n",
       "        vertical-align: top;\n",
       "    }\n",
       "\n",
       "    .dataframe thead th {\n",
       "        text-align: right;\n",
       "    }\n",
       "</style>\n",
       "<table border=\"1\" class=\"dataframe\">\n",
       "  <thead>\n",
       "    <tr style=\"text-align: right;\">\n",
       "      <th></th>\n",
       "      <th>Diện tích</th>\n",
       "      <th>Giá</th>\n",
       "    </tr>\n",
       "  </thead>\n",
       "  <tbody>\n",
       "    <tr>\n",
       "      <th>23</th>\n",
       "      <td>85.5172</td>\n",
       "      <td>1287.97</td>\n",
       "    </tr>\n",
       "    <tr>\n",
       "      <th>24</th>\n",
       "      <td>87.9310</td>\n",
       "      <td>1320.47</td>\n",
       "    </tr>\n",
       "    <tr>\n",
       "      <th>25</th>\n",
       "      <td>90.3448</td>\n",
       "      <td>1374.92</td>\n",
       "    </tr>\n",
       "    <tr>\n",
       "      <th>26</th>\n",
       "      <td>92.7586</td>\n",
       "      <td>1410.16</td>\n",
       "    </tr>\n",
       "    <tr>\n",
       "      <th>27</th>\n",
       "      <td>95.1724</td>\n",
       "      <td>1469.69</td>\n",
       "    </tr>\n",
       "    <tr>\n",
       "      <th>28</th>\n",
       "      <td>97.5862</td>\n",
       "      <td>1478.54</td>\n",
       "    </tr>\n",
       "    <tr>\n",
       "      <th>29</th>\n",
       "      <td>100.0000</td>\n",
       "      <td>1515.28</td>\n",
       "    </tr>\n",
       "  </tbody>\n",
       "</table>\n",
       "</div>"
      ],
      "text/plain": [
       "    Diện tích      Giá\n",
       "23    85.5172  1287.97\n",
       "24    87.9310  1320.47\n",
       "25    90.3448  1374.92\n",
       "26    92.7586  1410.16\n",
       "27    95.1724  1469.69\n",
       "28    97.5862  1478.54\n",
       "29   100.0000  1515.28"
      ]
     },
     "execution_count": 27,
     "metadata": {},
     "output_type": "execute_result"
    }
   ],
   "source": [
    "df.head(7) # df.last(7)"
   ]
  },
  {
   "cell_type": "markdown",
   "id": "499a9ffa",
   "metadata": {},
   "source": [
    "# read a piece of dataframe"
   ]
  },
  {
   "cell_type": "code",
   "execution_count": 28,
   "id": "fba52250",
   "metadata": {},
   "outputs": [
    {
     "data": {
      "text/html": [
       "<div>\n",
       "<style scoped>\n",
       "    .dataframe tbody tr th:only-of-type {\n",
       "        vertical-align: middle;\n",
       "    }\n",
       "\n",
       "    .dataframe tbody tr th {\n",
       "        vertical-align: top;\n",
       "    }\n",
       "\n",
       "    .dataframe thead th {\n",
       "        text-align: right;\n",
       "    }\n",
       "</style>\n",
       "<table border=\"1\" class=\"dataframe\">\n",
       "  <thead>\n",
       "    <tr style=\"text-align: right;\">\n",
       "      <th></th>\n",
       "      <th>Diện tích</th>\n",
       "      <th>Giá</th>\n",
       "    </tr>\n",
       "  </thead>\n",
       "  <tbody>\n",
       "    <tr>\n",
       "      <th>10</th>\n",
       "      <td>54.1379</td>\n",
       "      <td>831.004</td>\n",
       "    </tr>\n",
       "    <tr>\n",
       "      <th>11</th>\n",
       "      <td>56.5517</td>\n",
       "      <td>855.409</td>\n",
       "    </tr>\n",
       "    <tr>\n",
       "      <th>12</th>\n",
       "      <td>58.9655</td>\n",
       "      <td>866.707</td>\n",
       "    </tr>\n",
       "    <tr>\n",
       "      <th>13</th>\n",
       "      <td>61.3793</td>\n",
       "      <td>902.545</td>\n",
       "    </tr>\n",
       "    <tr>\n",
       "      <th>14</th>\n",
       "      <td>63.7931</td>\n",
       "      <td>952.261</td>\n",
       "    </tr>\n",
       "    <tr>\n",
       "      <th>15</th>\n",
       "      <td>66.2069</td>\n",
       "      <td>995.531</td>\n",
       "    </tr>\n",
       "    <tr>\n",
       "      <th>16</th>\n",
       "      <td>68.6207</td>\n",
       "      <td>1069.780</td>\n",
       "    </tr>\n",
       "    <tr>\n",
       "      <th>17</th>\n",
       "      <td>71.0345</td>\n",
       "      <td>1074.420</td>\n",
       "    </tr>\n",
       "  </tbody>\n",
       "</table>\n",
       "</div>"
      ],
      "text/plain": [
       "    Diện tích       Giá\n",
       "10    54.1379   831.004\n",
       "11    56.5517   855.409\n",
       "12    58.9655   866.707\n",
       "13    61.3793   902.545\n",
       "14    63.7931   952.261\n",
       "15    66.2069   995.531\n",
       "16    68.6207  1069.780\n",
       "17    71.0345  1074.420"
      ]
     },
     "execution_count": 28,
     "metadata": {},
     "output_type": "execute_result"
    }
   ],
   "source": [
    "df[10:18]"
   ]
  },
  {
   "cell_type": "markdown",
   "id": "785a0981",
   "metadata": {},
   "source": [
    "# show info of dataframe"
   ]
  },
  {
   "cell_type": "code",
   "execution_count": 17,
   "id": "f8abcf9e",
   "metadata": {},
   "outputs": [
    {
     "name": "stdout",
     "output_type": "stream",
     "text": [
      "<class 'pandas.core.frame.DataFrame'>\n",
      "RangeIndex: 30 entries, 0 to 29\n",
      "Data columns (total 2 columns):\n",
      " #   Column     Non-Null Count  Dtype  \n",
      "---  ------     --------------  -----  \n",
      " 0   Diện tích  30 non-null     float64\n",
      " 1   Giá        30 non-null     float64\n",
      "dtypes: float64(2)\n",
      "memory usage: 608.0 bytes\n"
     ]
    }
   ],
   "source": [
    "df.info()"
   ]
  },
  {
   "cell_type": "markdown",
   "id": "a7f6a014",
   "metadata": {},
   "source": [
    "# show basic statistical"
   ]
  },
  {
   "cell_type": "code",
   "execution_count": 18,
   "id": "5472590f",
   "metadata": {},
   "outputs": [
    {
     "data": {
      "text/html": [
       "<div>\n",
       "<style scoped>\n",
       "    .dataframe tbody tr th:only-of-type {\n",
       "        vertical-align: middle;\n",
       "    }\n",
       "\n",
       "    .dataframe tbody tr th {\n",
       "        vertical-align: top;\n",
       "    }\n",
       "\n",
       "    .dataframe thead th {\n",
       "        text-align: right;\n",
       "    }\n",
       "</style>\n",
       "<table border=\"1\" class=\"dataframe\">\n",
       "  <thead>\n",
       "    <tr style=\"text-align: right;\">\n",
       "      <th></th>\n",
       "      <th>Diện tích</th>\n",
       "      <th>Giá</th>\n",
       "    </tr>\n",
       "  </thead>\n",
       "  <tbody>\n",
       "    <tr>\n",
       "      <th>count</th>\n",
       "      <td>30.000000</td>\n",
       "      <td>30.000000</td>\n",
       "    </tr>\n",
       "    <tr>\n",
       "      <th>mean</th>\n",
       "      <td>65.000000</td>\n",
       "      <td>981.656633</td>\n",
       "    </tr>\n",
       "    <tr>\n",
       "      <th>std</th>\n",
       "      <td>21.249598</td>\n",
       "      <td>323.623977</td>\n",
       "    </tr>\n",
       "    <tr>\n",
       "      <th>min</th>\n",
       "      <td>30.000000</td>\n",
       "      <td>448.524000</td>\n",
       "    </tr>\n",
       "    <tr>\n",
       "      <th>25%</th>\n",
       "      <td>47.500025</td>\n",
       "      <td>713.262250</td>\n",
       "    </tr>\n",
       "    <tr>\n",
       "      <th>50%</th>\n",
       "      <td>65.000000</td>\n",
       "      <td>973.896000</td>\n",
       "    </tr>\n",
       "    <tr>\n",
       "      <th>75%</th>\n",
       "      <td>82.499975</td>\n",
       "      <td>1248.992500</td>\n",
       "    </tr>\n",
       "    <tr>\n",
       "      <th>max</th>\n",
       "      <td>100.000000</td>\n",
       "      <td>1515.280000</td>\n",
       "    </tr>\n",
       "  </tbody>\n",
       "</table>\n",
       "</div>"
      ],
      "text/plain": [
       "        Diện tích          Giá\n",
       "count   30.000000    30.000000\n",
       "mean    65.000000   981.656633\n",
       "std     21.249598   323.623977\n",
       "min     30.000000   448.524000\n",
       "25%     47.500025   713.262250\n",
       "50%     65.000000   973.896000\n",
       "75%     82.499975  1248.992500\n",
       "max    100.000000  1515.280000"
      ]
     },
     "execution_count": 18,
     "metadata": {},
     "output_type": "execute_result"
    }
   ],
   "source": [
    "df.describe()"
   ]
  },
  {
   "cell_type": "markdown",
   "id": "f8f95b19",
   "metadata": {},
   "source": [
    "# show size"
   ]
  },
  {
   "cell_type": "code",
   "execution_count": 23,
   "id": "4e7712a1",
   "metadata": {},
   "outputs": [
    {
     "data": {
      "text/plain": [
       "30"
      ]
     },
     "execution_count": 23,
     "metadata": {},
     "output_type": "execute_result"
    }
   ],
   "source": [
    "df.shape"
   ]
  },
  {
   "cell_type": "markdown",
   "id": "1955a41c",
   "metadata": {},
   "source": [
    "# show len"
   ]
  },
  {
   "cell_type": "code",
   "execution_count": 24,
   "id": "198fc192",
   "metadata": {},
   "outputs": [
    {
     "data": {
      "text/plain": [
       "30"
      ]
     },
     "execution_count": 24,
     "metadata": {},
     "output_type": "execute_result"
    }
   ],
   "source": [
    "len(df)"
   ]
  },
  {
   "cell_type": "markdown",
   "id": "7fee0341",
   "metadata": {},
   "source": [
    "# get a column"
   ]
  },
  {
   "cell_type": "code",
   "execution_count": 25,
   "id": "2c6f4826",
   "metadata": {},
   "outputs": [
    {
     "data": {
      "text/plain": [
       "0      448.524\n",
       "1      509.248\n",
       "2      535.104\n",
       "3      551.432\n",
       "4      623.418\n",
       "5      625.992\n",
       "6      655.248\n",
       "7      701.377\n",
       "8      748.918\n",
       "9      757.881\n",
       "10     831.004\n",
       "11     855.409\n",
       "12     866.707\n",
       "13     902.545\n",
       "14     952.261\n",
       "15     995.531\n",
       "16    1069.780\n",
       "17    1074.420\n",
       "18    1103.880\n",
       "19    1138.690\n",
       "20    1153.130\n",
       "21    1240.270\n",
       "22    1251.900\n",
       "23    1287.970\n",
       "24    1320.470\n",
       "25    1374.920\n",
       "26    1410.160\n",
       "27    1469.690\n",
       "28    1478.540\n",
       "29    1515.280\n",
       "Name: Giá, dtype: float64"
      ]
     },
     "execution_count": 25,
     "metadata": {},
     "output_type": "execute_result"
    }
   ],
   "source": [
    "df['Giá']"
   ]
  },
  {
   "cell_type": "markdown",
   "id": "257dd3d4",
   "metadata": {},
   "source": [
    "# get many columns"
   ]
  },
  {
   "cell_type": "code",
   "execution_count": 26,
   "id": "e40b55d2",
   "metadata": {},
   "outputs": [
    {
     "data": {
      "text/html": [
       "<div>\n",
       "<style scoped>\n",
       "    .dataframe tbody tr th:only-of-type {\n",
       "        vertical-align: middle;\n",
       "    }\n",
       "\n",
       "    .dataframe tbody tr th {\n",
       "        vertical-align: top;\n",
       "    }\n",
       "\n",
       "    .dataframe thead th {\n",
       "        text-align: right;\n",
       "    }\n",
       "</style>\n",
       "<table border=\"1\" class=\"dataframe\">\n",
       "  <thead>\n",
       "    <tr style=\"text-align: right;\">\n",
       "      <th></th>\n",
       "      <th>Diện tích</th>\n",
       "      <th>Giá</th>\n",
       "    </tr>\n",
       "  </thead>\n",
       "  <tbody>\n",
       "    <tr>\n",
       "      <th>0</th>\n",
       "      <td>30.0000</td>\n",
       "      <td>448.524</td>\n",
       "    </tr>\n",
       "    <tr>\n",
       "      <th>1</th>\n",
       "      <td>32.4138</td>\n",
       "      <td>509.248</td>\n",
       "    </tr>\n",
       "    <tr>\n",
       "      <th>2</th>\n",
       "      <td>34.8276</td>\n",
       "      <td>535.104</td>\n",
       "    </tr>\n",
       "    <tr>\n",
       "      <th>3</th>\n",
       "      <td>37.2414</td>\n",
       "      <td>551.432</td>\n",
       "    </tr>\n",
       "    <tr>\n",
       "      <th>4</th>\n",
       "      <td>39.6552</td>\n",
       "      <td>623.418</td>\n",
       "    </tr>\n",
       "    <tr>\n",
       "      <th>5</th>\n",
       "      <td>42.0690</td>\n",
       "      <td>625.992</td>\n",
       "    </tr>\n",
       "    <tr>\n",
       "      <th>6</th>\n",
       "      <td>44.4828</td>\n",
       "      <td>655.248</td>\n",
       "    </tr>\n",
       "    <tr>\n",
       "      <th>7</th>\n",
       "      <td>46.8966</td>\n",
       "      <td>701.377</td>\n",
       "    </tr>\n",
       "    <tr>\n",
       "      <th>8</th>\n",
       "      <td>49.3103</td>\n",
       "      <td>748.918</td>\n",
       "    </tr>\n",
       "    <tr>\n",
       "      <th>9</th>\n",
       "      <td>51.7241</td>\n",
       "      <td>757.881</td>\n",
       "    </tr>\n",
       "    <tr>\n",
       "      <th>10</th>\n",
       "      <td>54.1379</td>\n",
       "      <td>831.004</td>\n",
       "    </tr>\n",
       "    <tr>\n",
       "      <th>11</th>\n",
       "      <td>56.5517</td>\n",
       "      <td>855.409</td>\n",
       "    </tr>\n",
       "    <tr>\n",
       "      <th>12</th>\n",
       "      <td>58.9655</td>\n",
       "      <td>866.707</td>\n",
       "    </tr>\n",
       "    <tr>\n",
       "      <th>13</th>\n",
       "      <td>61.3793</td>\n",
       "      <td>902.545</td>\n",
       "    </tr>\n",
       "    <tr>\n",
       "      <th>14</th>\n",
       "      <td>63.7931</td>\n",
       "      <td>952.261</td>\n",
       "    </tr>\n",
       "    <tr>\n",
       "      <th>15</th>\n",
       "      <td>66.2069</td>\n",
       "      <td>995.531</td>\n",
       "    </tr>\n",
       "    <tr>\n",
       "      <th>16</th>\n",
       "      <td>68.6207</td>\n",
       "      <td>1069.780</td>\n",
       "    </tr>\n",
       "    <tr>\n",
       "      <th>17</th>\n",
       "      <td>71.0345</td>\n",
       "      <td>1074.420</td>\n",
       "    </tr>\n",
       "    <tr>\n",
       "      <th>18</th>\n",
       "      <td>73.4483</td>\n",
       "      <td>1103.880</td>\n",
       "    </tr>\n",
       "    <tr>\n",
       "      <th>19</th>\n",
       "      <td>75.8621</td>\n",
       "      <td>1138.690</td>\n",
       "    </tr>\n",
       "    <tr>\n",
       "      <th>20</th>\n",
       "      <td>78.2759</td>\n",
       "      <td>1153.130</td>\n",
       "    </tr>\n",
       "    <tr>\n",
       "      <th>21</th>\n",
       "      <td>80.6897</td>\n",
       "      <td>1240.270</td>\n",
       "    </tr>\n",
       "    <tr>\n",
       "      <th>22</th>\n",
       "      <td>83.1034</td>\n",
       "      <td>1251.900</td>\n",
       "    </tr>\n",
       "    <tr>\n",
       "      <th>23</th>\n",
       "      <td>85.5172</td>\n",
       "      <td>1287.970</td>\n",
       "    </tr>\n",
       "    <tr>\n",
       "      <th>24</th>\n",
       "      <td>87.9310</td>\n",
       "      <td>1320.470</td>\n",
       "    </tr>\n",
       "    <tr>\n",
       "      <th>25</th>\n",
       "      <td>90.3448</td>\n",
       "      <td>1374.920</td>\n",
       "    </tr>\n",
       "    <tr>\n",
       "      <th>26</th>\n",
       "      <td>92.7586</td>\n",
       "      <td>1410.160</td>\n",
       "    </tr>\n",
       "    <tr>\n",
       "      <th>27</th>\n",
       "      <td>95.1724</td>\n",
       "      <td>1469.690</td>\n",
       "    </tr>\n",
       "    <tr>\n",
       "      <th>28</th>\n",
       "      <td>97.5862</td>\n",
       "      <td>1478.540</td>\n",
       "    </tr>\n",
       "    <tr>\n",
       "      <th>29</th>\n",
       "      <td>100.0000</td>\n",
       "      <td>1515.280</td>\n",
       "    </tr>\n",
       "  </tbody>\n",
       "</table>\n",
       "</div>"
      ],
      "text/plain": [
       "    Diện tích       Giá\n",
       "0     30.0000   448.524\n",
       "1     32.4138   509.248\n",
       "2     34.8276   535.104\n",
       "3     37.2414   551.432\n",
       "4     39.6552   623.418\n",
       "5     42.0690   625.992\n",
       "6     44.4828   655.248\n",
       "7     46.8966   701.377\n",
       "8     49.3103   748.918\n",
       "9     51.7241   757.881\n",
       "10    54.1379   831.004\n",
       "11    56.5517   855.409\n",
       "12    58.9655   866.707\n",
       "13    61.3793   902.545\n",
       "14    63.7931   952.261\n",
       "15    66.2069   995.531\n",
       "16    68.6207  1069.780\n",
       "17    71.0345  1074.420\n",
       "18    73.4483  1103.880\n",
       "19    75.8621  1138.690\n",
       "20    78.2759  1153.130\n",
       "21    80.6897  1240.270\n",
       "22    83.1034  1251.900\n",
       "23    85.5172  1287.970\n",
       "24    87.9310  1320.470\n",
       "25    90.3448  1374.920\n",
       "26    92.7586  1410.160\n",
       "27    95.1724  1469.690\n",
       "28    97.5862  1478.540\n",
       "29   100.0000  1515.280"
      ]
     },
     "execution_count": 26,
     "metadata": {},
     "output_type": "execute_result"
    }
   ],
   "source": [
    "df[['Diện tích', 'Giá']]"
   ]
  },
  {
   "cell_type": "markdown",
   "id": "6a0515c1",
   "metadata": {},
   "source": [
    "# get info of a row\n",
    "## a row - a data point"
   ]
  },
  {
   "cell_type": "code",
   "execution_count": 30,
   "id": "3797d6cd",
   "metadata": {},
   "outputs": [
    {
     "data": {
      "text/plain": [
       "Diện tích     30.000\n",
       "Giá          448.524\n",
       "Name: 0, dtype: float64"
      ]
     },
     "execution_count": 30,
     "metadata": {},
     "output_type": "execute_result"
    }
   ],
   "source": [
    "df.iloc[0]"
   ]
  },
  {
   "cell_type": "markdown",
   "id": "db92499d",
   "metadata": {},
   "source": [
    "# get info of a cell"
   ]
  },
  {
   "cell_type": "code",
   "execution_count": 31,
   "id": "00b1f1b9",
   "metadata": {},
   "outputs": [
    {
     "data": {
      "text/plain": [
       "30.0"
      ]
     },
     "execution_count": 31,
     "metadata": {},
     "output_type": "execute_result"
    }
   ],
   "source": [
    "df.iloc[0].at['Diện tích']"
   ]
  },
  {
   "cell_type": "markdown",
   "id": "0984ba0d",
   "metadata": {},
   "source": [
    "# convert a column to numpy array"
   ]
  },
  {
   "cell_type": "code",
   "execution_count": 32,
   "id": "fbfb3703",
   "metadata": {},
   "outputs": [
    {
     "data": {
      "text/plain": [
       "array([ 30.    ,  32.4138,  34.8276,  37.2414,  39.6552,  42.069 ,\n",
       "        44.4828,  46.8966,  49.3103,  51.7241,  54.1379,  56.5517,\n",
       "        58.9655,  61.3793,  63.7931,  66.2069,  68.6207,  71.0345,\n",
       "        73.4483,  75.8621,  78.2759,  80.6897,  83.1034,  85.5172,\n",
       "        87.931 ,  90.3448,  92.7586,  95.1724,  97.5862, 100.    ])"
      ]
     },
     "execution_count": 32,
     "metadata": {},
     "output_type": "execute_result"
    }
   ],
   "source": [
    "df['Diện tích'].values"
   ]
  },
  {
   "cell_type": "markdown",
   "id": "47621a88",
   "metadata": {},
   "source": [
    "# add a new column"
   ]
  },
  {
   "cell_type": "code",
   "execution_count": 35,
   "id": "1ca6a1be",
   "metadata": {},
   "outputs": [
    {
     "data": {
      "text/html": [
       "<div>\n",
       "<style scoped>\n",
       "    .dataframe tbody tr th:only-of-type {\n",
       "        vertical-align: middle;\n",
       "    }\n",
       "\n",
       "    .dataframe tbody tr th {\n",
       "        vertical-align: top;\n",
       "    }\n",
       "\n",
       "    .dataframe thead th {\n",
       "        text-align: right;\n",
       "    }\n",
       "</style>\n",
       "<table border=\"1\" class=\"dataframe\">\n",
       "  <thead>\n",
       "    <tr style=\"text-align: right;\">\n",
       "      <th></th>\n",
       "      <th>Diện tích</th>\n",
       "      <th>Giá</th>\n",
       "      <th>new column</th>\n",
       "      <th>check</th>\n",
       "      <th>new_column</th>\n",
       "    </tr>\n",
       "  </thead>\n",
       "  <tbody>\n",
       "    <tr>\n",
       "      <th>0</th>\n",
       "      <td>30.0000</td>\n",
       "      <td>448.524</td>\n",
       "      <td>False</td>\n",
       "      <td>False</td>\n",
       "      <td>None</td>\n",
       "    </tr>\n",
       "    <tr>\n",
       "      <th>1</th>\n",
       "      <td>32.4138</td>\n",
       "      <td>509.248</td>\n",
       "      <td>False</td>\n",
       "      <td>False</td>\n",
       "      <td>None</td>\n",
       "    </tr>\n",
       "    <tr>\n",
       "      <th>2</th>\n",
       "      <td>34.8276</td>\n",
       "      <td>535.104</td>\n",
       "      <td>False</td>\n",
       "      <td>False</td>\n",
       "      <td>None</td>\n",
       "    </tr>\n",
       "    <tr>\n",
       "      <th>3</th>\n",
       "      <td>37.2414</td>\n",
       "      <td>551.432</td>\n",
       "      <td>False</td>\n",
       "      <td>False</td>\n",
       "      <td>None</td>\n",
       "    </tr>\n",
       "    <tr>\n",
       "      <th>4</th>\n",
       "      <td>39.6552</td>\n",
       "      <td>623.418</td>\n",
       "      <td>False</td>\n",
       "      <td>False</td>\n",
       "      <td>None</td>\n",
       "    </tr>\n",
       "    <tr>\n",
       "      <th>5</th>\n",
       "      <td>42.0690</td>\n",
       "      <td>625.992</td>\n",
       "      <td>False</td>\n",
       "      <td>False</td>\n",
       "      <td>None</td>\n",
       "    </tr>\n",
       "    <tr>\n",
       "      <th>6</th>\n",
       "      <td>44.4828</td>\n",
       "      <td>655.248</td>\n",
       "      <td>False</td>\n",
       "      <td>False</td>\n",
       "      <td>None</td>\n",
       "    </tr>\n",
       "    <tr>\n",
       "      <th>7</th>\n",
       "      <td>46.8966</td>\n",
       "      <td>701.377</td>\n",
       "      <td>False</td>\n",
       "      <td>False</td>\n",
       "      <td>None</td>\n",
       "    </tr>\n",
       "    <tr>\n",
       "      <th>8</th>\n",
       "      <td>49.3103</td>\n",
       "      <td>748.918</td>\n",
       "      <td>False</td>\n",
       "      <td>False</td>\n",
       "      <td>None</td>\n",
       "    </tr>\n",
       "    <tr>\n",
       "      <th>9</th>\n",
       "      <td>51.7241</td>\n",
       "      <td>757.881</td>\n",
       "      <td>True</td>\n",
       "      <td>True</td>\n",
       "      <td>None</td>\n",
       "    </tr>\n",
       "    <tr>\n",
       "      <th>10</th>\n",
       "      <td>54.1379</td>\n",
       "      <td>831.004</td>\n",
       "      <td>True</td>\n",
       "      <td>True</td>\n",
       "      <td>None</td>\n",
       "    </tr>\n",
       "    <tr>\n",
       "      <th>11</th>\n",
       "      <td>56.5517</td>\n",
       "      <td>855.409</td>\n",
       "      <td>True</td>\n",
       "      <td>True</td>\n",
       "      <td>None</td>\n",
       "    </tr>\n",
       "    <tr>\n",
       "      <th>12</th>\n",
       "      <td>58.9655</td>\n",
       "      <td>866.707</td>\n",
       "      <td>True</td>\n",
       "      <td>True</td>\n",
       "      <td>None</td>\n",
       "    </tr>\n",
       "    <tr>\n",
       "      <th>13</th>\n",
       "      <td>61.3793</td>\n",
       "      <td>902.545</td>\n",
       "      <td>True</td>\n",
       "      <td>True</td>\n",
       "      <td>None</td>\n",
       "    </tr>\n",
       "    <tr>\n",
       "      <th>14</th>\n",
       "      <td>63.7931</td>\n",
       "      <td>952.261</td>\n",
       "      <td>True</td>\n",
       "      <td>True</td>\n",
       "      <td>None</td>\n",
       "    </tr>\n",
       "    <tr>\n",
       "      <th>15</th>\n",
       "      <td>66.2069</td>\n",
       "      <td>995.531</td>\n",
       "      <td>True</td>\n",
       "      <td>True</td>\n",
       "      <td>None</td>\n",
       "    </tr>\n",
       "    <tr>\n",
       "      <th>16</th>\n",
       "      <td>68.6207</td>\n",
       "      <td>1069.780</td>\n",
       "      <td>True</td>\n",
       "      <td>True</td>\n",
       "      <td>None</td>\n",
       "    </tr>\n",
       "    <tr>\n",
       "      <th>17</th>\n",
       "      <td>71.0345</td>\n",
       "      <td>1074.420</td>\n",
       "      <td>True</td>\n",
       "      <td>True</td>\n",
       "      <td>None</td>\n",
       "    </tr>\n",
       "    <tr>\n",
       "      <th>18</th>\n",
       "      <td>73.4483</td>\n",
       "      <td>1103.880</td>\n",
       "      <td>True</td>\n",
       "      <td>True</td>\n",
       "      <td>None</td>\n",
       "    </tr>\n",
       "    <tr>\n",
       "      <th>19</th>\n",
       "      <td>75.8621</td>\n",
       "      <td>1138.690</td>\n",
       "      <td>True</td>\n",
       "      <td>True</td>\n",
       "      <td>None</td>\n",
       "    </tr>\n",
       "    <tr>\n",
       "      <th>20</th>\n",
       "      <td>78.2759</td>\n",
       "      <td>1153.130</td>\n",
       "      <td>True</td>\n",
       "      <td>True</td>\n",
       "      <td>None</td>\n",
       "    </tr>\n",
       "    <tr>\n",
       "      <th>21</th>\n",
       "      <td>80.6897</td>\n",
       "      <td>1240.270</td>\n",
       "      <td>True</td>\n",
       "      <td>True</td>\n",
       "      <td>None</td>\n",
       "    </tr>\n",
       "    <tr>\n",
       "      <th>22</th>\n",
       "      <td>83.1034</td>\n",
       "      <td>1251.900</td>\n",
       "      <td>True</td>\n",
       "      <td>True</td>\n",
       "      <td>None</td>\n",
       "    </tr>\n",
       "    <tr>\n",
       "      <th>23</th>\n",
       "      <td>85.5172</td>\n",
       "      <td>1287.970</td>\n",
       "      <td>True</td>\n",
       "      <td>True</td>\n",
       "      <td>None</td>\n",
       "    </tr>\n",
       "    <tr>\n",
       "      <th>24</th>\n",
       "      <td>87.9310</td>\n",
       "      <td>1320.470</td>\n",
       "      <td>True</td>\n",
       "      <td>True</td>\n",
       "      <td>None</td>\n",
       "    </tr>\n",
       "    <tr>\n",
       "      <th>25</th>\n",
       "      <td>90.3448</td>\n",
       "      <td>1374.920</td>\n",
       "      <td>True</td>\n",
       "      <td>True</td>\n",
       "      <td>None</td>\n",
       "    </tr>\n",
       "    <tr>\n",
       "      <th>26</th>\n",
       "      <td>92.7586</td>\n",
       "      <td>1410.160</td>\n",
       "      <td>True</td>\n",
       "      <td>True</td>\n",
       "      <td>None</td>\n",
       "    </tr>\n",
       "    <tr>\n",
       "      <th>27</th>\n",
       "      <td>95.1724</td>\n",
       "      <td>1469.690</td>\n",
       "      <td>True</td>\n",
       "      <td>True</td>\n",
       "      <td>None</td>\n",
       "    </tr>\n",
       "    <tr>\n",
       "      <th>28</th>\n",
       "      <td>97.5862</td>\n",
       "      <td>1478.540</td>\n",
       "      <td>True</td>\n",
       "      <td>True</td>\n",
       "      <td>None</td>\n",
       "    </tr>\n",
       "    <tr>\n",
       "      <th>29</th>\n",
       "      <td>100.0000</td>\n",
       "      <td>1515.280</td>\n",
       "      <td>True</td>\n",
       "      <td>True</td>\n",
       "      <td>None</td>\n",
       "    </tr>\n",
       "  </tbody>\n",
       "</table>\n",
       "</div>"
      ],
      "text/plain": [
       "    Diện tích       Giá  new column  check new_column\n",
       "0     30.0000   448.524       False  False       None\n",
       "1     32.4138   509.248       False  False       None\n",
       "2     34.8276   535.104       False  False       None\n",
       "3     37.2414   551.432       False  False       None\n",
       "4     39.6552   623.418       False  False       None\n",
       "5     42.0690   625.992       False  False       None\n",
       "6     44.4828   655.248       False  False       None\n",
       "7     46.8966   701.377       False  False       None\n",
       "8     49.3103   748.918       False  False       None\n",
       "9     51.7241   757.881        True   True       None\n",
       "10    54.1379   831.004        True   True       None\n",
       "11    56.5517   855.409        True   True       None\n",
       "12    58.9655   866.707        True   True       None\n",
       "13    61.3793   902.545        True   True       None\n",
       "14    63.7931   952.261        True   True       None\n",
       "15    66.2069   995.531        True   True       None\n",
       "16    68.6207  1069.780        True   True       None\n",
       "17    71.0345  1074.420        True   True       None\n",
       "18    73.4483  1103.880        True   True       None\n",
       "19    75.8621  1138.690        True   True       None\n",
       "20    78.2759  1153.130        True   True       None\n",
       "21    80.6897  1240.270        True   True       None\n",
       "22    83.1034  1251.900        True   True       None\n",
       "23    85.5172  1287.970        True   True       None\n",
       "24    87.9310  1320.470        True   True       None\n",
       "25    90.3448  1374.920        True   True       None\n",
       "26    92.7586  1410.160        True   True       None\n",
       "27    95.1724  1469.690        True   True       None\n",
       "28    97.5862  1478.540        True   True       None\n",
       "29   100.0000  1515.280        True   True       None"
      ]
     },
     "execution_count": 35,
     "metadata": {},
     "output_type": "execute_result"
    }
   ],
   "source": [
    "df['check'] = df['Diện tích'] > 50\n",
    "df['new_column'] = None\n",
    "df"
   ]
  },
  {
   "cell_type": "markdown",
   "id": "d921ae7d",
   "metadata": {},
   "source": [
    "# remove a column or a row\n",
    "## axis = 1 (remve column), axis = 0 (delete row)"
   ]
  },
  {
   "cell_type": "code",
   "execution_count": 37,
   "id": "8fcfeae7",
   "metadata": {},
   "outputs": [],
   "source": [
    "df = df.drop(['new column'], axis=1)"
   ]
  },
  {
   "cell_type": "code",
   "execution_count": 41,
   "id": "3685a030",
   "metadata": {},
   "outputs": [
    {
     "data": {
      "text/html": [
       "<div>\n",
       "<style scoped>\n",
       "    .dataframe tbody tr th:only-of-type {\n",
       "        vertical-align: middle;\n",
       "    }\n",
       "\n",
       "    .dataframe tbody tr th {\n",
       "        vertical-align: top;\n",
       "    }\n",
       "\n",
       "    .dataframe thead th {\n",
       "        text-align: right;\n",
       "    }\n",
       "</style>\n",
       "<table border=\"1\" class=\"dataframe\">\n",
       "  <thead>\n",
       "    <tr style=\"text-align: right;\">\n",
       "      <th></th>\n",
       "      <th>Diện tích</th>\n",
       "      <th>Giá</th>\n",
       "      <th>check</th>\n",
       "      <th>new_column</th>\n",
       "    </tr>\n",
       "  </thead>\n",
       "  <tbody>\n",
       "    <tr>\n",
       "      <th>3</th>\n",
       "      <td>37.2414</td>\n",
       "      <td>551.432</td>\n",
       "      <td>False</td>\n",
       "      <td>None</td>\n",
       "    </tr>\n",
       "    <tr>\n",
       "      <th>4</th>\n",
       "      <td>39.6552</td>\n",
       "      <td>623.418</td>\n",
       "      <td>False</td>\n",
       "      <td>None</td>\n",
       "    </tr>\n",
       "    <tr>\n",
       "      <th>5</th>\n",
       "      <td>42.0690</td>\n",
       "      <td>625.992</td>\n",
       "      <td>False</td>\n",
       "      <td>None</td>\n",
       "    </tr>\n",
       "    <tr>\n",
       "      <th>6</th>\n",
       "      <td>44.4828</td>\n",
       "      <td>655.248</td>\n",
       "      <td>False</td>\n",
       "      <td>None</td>\n",
       "    </tr>\n",
       "    <tr>\n",
       "      <th>7</th>\n",
       "      <td>46.8966</td>\n",
       "      <td>701.377</td>\n",
       "      <td>False</td>\n",
       "      <td>None</td>\n",
       "    </tr>\n",
       "    <tr>\n",
       "      <th>8</th>\n",
       "      <td>49.3103</td>\n",
       "      <td>748.918</td>\n",
       "      <td>False</td>\n",
       "      <td>None</td>\n",
       "    </tr>\n",
       "    <tr>\n",
       "      <th>9</th>\n",
       "      <td>51.7241</td>\n",
       "      <td>757.881</td>\n",
       "      <td>True</td>\n",
       "      <td>None</td>\n",
       "    </tr>\n",
       "    <tr>\n",
       "      <th>10</th>\n",
       "      <td>54.1379</td>\n",
       "      <td>831.004</td>\n",
       "      <td>True</td>\n",
       "      <td>None</td>\n",
       "    </tr>\n",
       "    <tr>\n",
       "      <th>11</th>\n",
       "      <td>56.5517</td>\n",
       "      <td>855.409</td>\n",
       "      <td>True</td>\n",
       "      <td>None</td>\n",
       "    </tr>\n",
       "    <tr>\n",
       "      <th>12</th>\n",
       "      <td>58.9655</td>\n",
       "      <td>866.707</td>\n",
       "      <td>True</td>\n",
       "      <td>None</td>\n",
       "    </tr>\n",
       "    <tr>\n",
       "      <th>13</th>\n",
       "      <td>61.3793</td>\n",
       "      <td>902.545</td>\n",
       "      <td>True</td>\n",
       "      <td>None</td>\n",
       "    </tr>\n",
       "    <tr>\n",
       "      <th>14</th>\n",
       "      <td>63.7931</td>\n",
       "      <td>952.261</td>\n",
       "      <td>True</td>\n",
       "      <td>None</td>\n",
       "    </tr>\n",
       "    <tr>\n",
       "      <th>15</th>\n",
       "      <td>66.2069</td>\n",
       "      <td>995.531</td>\n",
       "      <td>True</td>\n",
       "      <td>None</td>\n",
       "    </tr>\n",
       "    <tr>\n",
       "      <th>16</th>\n",
       "      <td>68.6207</td>\n",
       "      <td>1069.780</td>\n",
       "      <td>True</td>\n",
       "      <td>None</td>\n",
       "    </tr>\n",
       "    <tr>\n",
       "      <th>17</th>\n",
       "      <td>71.0345</td>\n",
       "      <td>1074.420</td>\n",
       "      <td>True</td>\n",
       "      <td>None</td>\n",
       "    </tr>\n",
       "    <tr>\n",
       "      <th>18</th>\n",
       "      <td>73.4483</td>\n",
       "      <td>1103.880</td>\n",
       "      <td>True</td>\n",
       "      <td>None</td>\n",
       "    </tr>\n",
       "    <tr>\n",
       "      <th>19</th>\n",
       "      <td>75.8621</td>\n",
       "      <td>1138.690</td>\n",
       "      <td>True</td>\n",
       "      <td>None</td>\n",
       "    </tr>\n",
       "    <tr>\n",
       "      <th>20</th>\n",
       "      <td>78.2759</td>\n",
       "      <td>1153.130</td>\n",
       "      <td>True</td>\n",
       "      <td>None</td>\n",
       "    </tr>\n",
       "    <tr>\n",
       "      <th>21</th>\n",
       "      <td>80.6897</td>\n",
       "      <td>1240.270</td>\n",
       "      <td>True</td>\n",
       "      <td>None</td>\n",
       "    </tr>\n",
       "    <tr>\n",
       "      <th>22</th>\n",
       "      <td>83.1034</td>\n",
       "      <td>1251.900</td>\n",
       "      <td>True</td>\n",
       "      <td>None</td>\n",
       "    </tr>\n",
       "    <tr>\n",
       "      <th>23</th>\n",
       "      <td>85.5172</td>\n",
       "      <td>1287.970</td>\n",
       "      <td>True</td>\n",
       "      <td>None</td>\n",
       "    </tr>\n",
       "    <tr>\n",
       "      <th>24</th>\n",
       "      <td>87.9310</td>\n",
       "      <td>1320.470</td>\n",
       "      <td>True</td>\n",
       "      <td>None</td>\n",
       "    </tr>\n",
       "    <tr>\n",
       "      <th>25</th>\n",
       "      <td>90.3448</td>\n",
       "      <td>1374.920</td>\n",
       "      <td>True</td>\n",
       "      <td>None</td>\n",
       "    </tr>\n",
       "    <tr>\n",
       "      <th>26</th>\n",
       "      <td>92.7586</td>\n",
       "      <td>1410.160</td>\n",
       "      <td>True</td>\n",
       "      <td>None</td>\n",
       "    </tr>\n",
       "    <tr>\n",
       "      <th>27</th>\n",
       "      <td>95.1724</td>\n",
       "      <td>1469.690</td>\n",
       "      <td>True</td>\n",
       "      <td>None</td>\n",
       "    </tr>\n",
       "    <tr>\n",
       "      <th>28</th>\n",
       "      <td>97.5862</td>\n",
       "      <td>1478.540</td>\n",
       "      <td>True</td>\n",
       "      <td>None</td>\n",
       "    </tr>\n",
       "    <tr>\n",
       "      <th>29</th>\n",
       "      <td>100.0000</td>\n",
       "      <td>1515.280</td>\n",
       "      <td>True</td>\n",
       "      <td>None</td>\n",
       "    </tr>\n",
       "  </tbody>\n",
       "</table>\n",
       "</div>"
      ],
      "text/plain": [
       "    Diện tích       Giá  check new_column\n",
       "3     37.2414   551.432  False       None\n",
       "4     39.6552   623.418  False       None\n",
       "5     42.0690   625.992  False       None\n",
       "6     44.4828   655.248  False       None\n",
       "7     46.8966   701.377  False       None\n",
       "8     49.3103   748.918  False       None\n",
       "9     51.7241   757.881   True       None\n",
       "10    54.1379   831.004   True       None\n",
       "11    56.5517   855.409   True       None\n",
       "12    58.9655   866.707   True       None\n",
       "13    61.3793   902.545   True       None\n",
       "14    63.7931   952.261   True       None\n",
       "15    66.2069   995.531   True       None\n",
       "16    68.6207  1069.780   True       None\n",
       "17    71.0345  1074.420   True       None\n",
       "18    73.4483  1103.880   True       None\n",
       "19    75.8621  1138.690   True       None\n",
       "20    78.2759  1153.130   True       None\n",
       "21    80.6897  1240.270   True       None\n",
       "22    83.1034  1251.900   True       None\n",
       "23    85.5172  1287.970   True       None\n",
       "24    87.9310  1320.470   True       None\n",
       "25    90.3448  1374.920   True       None\n",
       "26    92.7586  1410.160   True       None\n",
       "27    95.1724  1469.690   True       None\n",
       "28    97.5862  1478.540   True       None\n",
       "29   100.0000  1515.280   True       None"
      ]
     },
     "execution_count": 41,
     "metadata": {},
     "output_type": "execute_result"
    }
   ],
   "source": [
    "df = df.drop([0, 1, 2])\n",
    "df"
   ]
  },
  {
   "cell_type": "markdown",
   "id": "316cc2e5",
   "metadata": {},
   "source": [
    "# draw graph"
   ]
  },
  {
   "cell_type": "code",
   "execution_count": 57,
   "id": "40c933e6",
   "metadata": {},
   "outputs": [
    {
     "data": {
      "text/plain": [
       "<AxesSubplot:>"
      ]
     },
     "execution_count": 57,
     "metadata": {},
     "output_type": "execute_result"
    },
    {
     "data": {
      "image/png": "[encoded data removed]",
      "text/plain": [
       "<Figure size 432x288 with 1 Axes>"
      ]
     },
     "metadata": {
      "needs_background": "light"
     },
     "output_type": "display_data"
    }
   ],
   "source": [
    "# new file csv\n",
    "url = 'https://raw.githubusercontent.com/NguyenThinhDatEng/Deep_Learning/master/Meachine_Learning/Logistic_regression/dataset.csv'\n",
    "df = pd.read_csv(url)\n",
    "# all of dataframe\n",
    "df.plot()"
   ]
  },
  {
   "cell_type": "code",
   "execution_count": 58,
   "id": "ef170d14",
   "metadata": {},
   "outputs": [
    {
     "data": {
      "text/plain": [
       "<AxesSubplot:>"
      ]
     },
     "execution_count": 58,
     "metadata": {},
     "output_type": "execute_result"
    },
    {
     "data": {
      "image/png": "[encoded data removed]",
      "text/plain": [
       "<Figure size 432x288 with 1 Axes>"
      ]
     },
     "metadata": {
      "needs_background": "light"
     },
     "output_type": "display_data"
    }
   ],
   "source": [
    "# a column of df\n",
    "df['Lương'].plot()"
   ]
  },
  {
   "cell_type": "code",
   "execution_count": 59,
   "id": "fe72aa51",
   "metadata": {},
   "outputs": [
    {
     "data": {
      "text/plain": [
       "<AxesSubplot:title={'center':'My Scatter'}, xlabel='time', ylabel='salary'>"
      ]
     },
     "execution_count": 59,
     "metadata": {},
     "output_type": "execute_result"
    },
    {
     "data": {
      "image/png": "[encoded data removed]",
      "text/plain": [
       "<Figure size 432x288 with 1 Axes>"
      ]
     },
     "metadata": {
      "needs_background": "light"
     },
     "output_type": "display_data"
    }
   ],
   "source": [
    "# follow kind graph\n",
    "df.plot(kind='scatter',\n",
    "       x='Thời gian làm việc',\n",
    "       y = 'Lương',\n",
    "       xlabel='time',\n",
    "       ylabel='salary',\n",
    "       title='My Scatter')"
   ]
  },
  {
   "cell_type": "code",
   "execution_count": 64,
   "id": "1b98af67",
   "metadata": {},
   "outputs": [
    {
     "data": {
      "text/plain": [
       "<AxesSubplot:title={'center':'Histogram of Salary'}, ylabel='Frequency'>"
      ]
     },
     "execution_count": 64,
     "metadata": {},
     "output_type": "execute_result"
    },
    {
     "data": {
      "image/png": "[encoded data removed]",
      "text/plain": [
       "<Figure size 432x288 with 1 Axes>"
      ]
     },
     "metadata": {
      "needs_background": "light"
     },
     "output_type": "display_data"
    }
   ],
   "source": [
    "df['Lương'].plot(kind='hist',\n",
    "       bins=10,\n",
    "       xlabel='salary',\n",
    "       title='Histogram of Salary')"
   ]
  },
  {
   "cell_type": "code",
   "execution_count": 66,
   "id": "bc432e0b",
   "metadata": {},
   "outputs": [
    {
     "data": {
      "text/plain": [
       "<AxesSubplot:>"
      ]
     },
     "execution_count": 66,
     "metadata": {},
     "output_type": "execute_result"
    },
    {
     "data": {
      "image/png": "[encoded data removed]",
      "text/plain": [
       "<Figure size 432x288 with 2 Axes>"
      ]
     },
     "metadata": {
      "needs_background": "light"
     },
     "output_type": "display_data"
    }
   ],
   "source": [
    "import seaborn as sns\n",
    "corr = df.corr()\n",
    "sns.heatmap(corr,\n",
    "           xticklabels=corr.columns.values,\n",
    "           yticklabels=corr.columns.values)"
   ]
  },
  {
   "cell_type": "code",
   "execution_count": 67,
   "id": "93df5504",
   "metadata": {},
   "outputs": [
    {
     "data": {
      "text/plain": [
       "<seaborn.axisgrid.PairGrid at 0x7fc2994da670>"
      ]
     },
     "execution_count": 67,
     "metadata": {},
     "output_type": "execute_result"
    },
    {
     "data": {
      "image/png": "[encoded data removed]",
      "text/plain": [
       "<Figure size 408.75x360 with 6 Axes>"
      ]
     },
     "metadata": {
      "needs_background": "light"
     },
     "output_type": "display_data"
    }
   ],
   "source": [
    "sns.pairplot(df, hue='Lương')"
   ]
  },
  {
   "cell_type": "code",
   "execution_count": null,
   "id": "ecdb3bcc",
   "metadata": {},
   "outputs": [],
   "source": []
  }
 ],
 "metadata": {
  "kernelspec": {
   "display_name": "Python 3 (ipykernel)",
   "language": "python",
   "name": "python3"
  },
  "language_info": {
   "codemirror_mode": {
    "name": "ipython",
    "version": 3
   },
   "file_extension": ".py",
   "mimetype": "text/x-python",
   "name": "python",
   "nbconvert_exporter": "python",
   "pygments_lexer": "ipython3",
   "version": "3.9.12"
  }
 },
 "nbformat": 4,
 "nbformat_minor": 5
}
